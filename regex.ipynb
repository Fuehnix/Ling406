{
 "cells": [
  {
   "cell_type": "code",
   "execution_count": 2,
   "metadata": {},
   "outputs": [],
   "source": [
    "import re"
   ]
  },
  {
   "cell_type": "code",
   "execution_count": 3,
   "metadata": {
    "scrolled": true
   },
   "outputs": [
    {
     "name": "stdout",
     "output_type": "stream",
     "text": [
      "Hurricane Michael May Hit Florida as Category 3 Storm\n",
      "\n",
      "(an adaptation of the New York Times article with the same title)\n",
      "\n",
      "ATLANTA — Hurricane Michael strengthened and sharpened its track toward the Florida Panhandle on Monday, imperiling a vast stretch of the state that must cope with the threat of a suddenly menacing storm.\n",
      "\n",
      "The risks posed by the hurricane extended hundreds of miles inland, and it was poised to bombard parts of the South and Mid-Atlantic as a tropical storm, endangering regions still recovering from Hurricane Florence’s deluge last month.\n",
      "\n",
      "The National Hurricane Center said Michael could make landfall again on Wednesday, Oct. 11th as a Category 3 hurricane, with sustained winds of at least 111 miles per hour. If the forecast holds, Michael would be the strongest hurricane to make landfall in the mainland United States so far.\n",
      "\n",
      "“Michael can still change direction and impact any part of the state,” said Mr. Scott, who warned that some areas could receive up to a foot of rain, and that destructive winds were likely to hit both along the coast, in places like Panama City, and inland, including Tallahassee, the capital. Local officials ordered evacuations from some communities ahead of the storm, which is expected to bring tropical storm-force winds to the state beginning as soon as Tuesday.\n",
      "\n",
      "Unlike Hurricane Florence, which slowly approached the Carolinas from the Atlantic Ocean and then meandered for days, Hurricane Michael offered little time for preparation. When Mr. Scott spoke, on Monday 8a.m., the system was a tropical storm, though one forecast to strengthen. A bit later, the hurricane center upgraded it to a Category 1 hurricane and anticipated a Category 3 strike on Wednesday.\n",
      "\n",
      "On Monday afternoon, the hurricane center said the storm was about 520 miles south of Apalachicola, Fla., with maximum sustained winds of 80 miles per hour, just above the threshold to be classified as a hurricane. The storm was moving north at nine miles per hour, leading to watches and warnings in Cuba, Mexico and the United States.\n",
      "\n",
      "Florida State University said it would close Tuesday, Oct. 2018 and did not expect to resume normal operations. (The university’s football team, which plays in a stadium that seats close to 80,000 people, does have another home game on October 20th.)\n",
      "\n",
      "“Please evacuate to Leon County,” the sheriff’s office said on 10/10/2018. It will be very bad, he said — similar in some ways to Christmas Day, when most places close and lots of people could not get out of town. \n",
      "\n",
      "\n"
     ]
    }
   ],
   "source": [
    "#initialize variables\n",
    "inputFileName = \"input.Hw1.txt\";\n",
    "outputFileName = \"output.txt\";\n",
    "#open the input file\n",
    "fIn = open(inputFileName);\n",
    "#clear the contents of the output file\n",
    "open('file.txt', 'w').close();\n",
    "#open the output file\n",
    "fOut = open(outputFileName,'w');\n",
    "#read the file and show what it looks like before starting.\n",
    "data = fIn.read();\n",
    "dates = []\n",
    "print(data);"
   ]
  },
  {
   "cell_type": "code",
   "execution_count": 4,
   "metadata": {},
   "outputs": [
    {
     "name": "stdout",
     "output_type": "stream",
     "text": [
      "[]\n",
      "Hurricane Michael May Hit Florida as Category 3 Storm\n",
      "\n",
      "(an adaptation of the New York Times article with the same title)\n",
      "\n",
      "ATLANTA — Hurricane Michael strengthened and sharpened its track toward the Florida Panhandle on Monday, imperiling a vast stretch of the state that must cope with the threat of a suddenly menacing storm.\n",
      "\n",
      "The risks posed by the hurricane extended hundreds of miles inland, and it was poised to bombard parts of the South and Mid-Atlantic as a tropical storm, endangering regions still recovering from Hurricane Florence’s deluge last month.\n",
      "\n",
      "The National Hurricane Center said Michael could make landfall again on Wednesday, Oct. 11th as a Category 3 hurricane, with sustained winds of at least 111 miles per hour. If the forecast holds, Michael would be the strongest hurricane to make landfall in the mainland United States so far.\n",
      "\n",
      "“Michael can still change direction and impact any part of the state,” said Mr. Scott, who warned that some areas could receive up to a foot of rain, and that destructive winds were likely to hit both along the coast, in places like Panama City, and inland, including Tallahassee, the capital. Local officials ordered evacuations from some communities ahead of the storm, which is expected to bring tropical storm-force winds to the state beginning as soon as Tuesday.\n",
      "\n",
      "Unlike Hurricane Florence, which slowly approached the Carolinas from the Atlantic Ocean and then meandered for days, Hurricane Michael offered little time for preparation. When Mr. Scott spoke, on Monday 8a.m., the system was a tropical storm, though one forecast to strengthen. A bit later, the hurricane center upgraded it to a Category 1 hurricane and anticipated a Category 3 strike on Wednesday.\n",
      "\n",
      "On Monday afternoon, the hurricane center said the storm was about 520 miles south of Apalachicola, Fla., with maximum sustained winds of 80 miles per hour, just above the threshold to be classified as a hurricane. The storm was moving north at nine miles per hour, leading to watches and warnings in Cuba, Mexico and the United States.\n",
      "\n",
      "Florida State University said it would close Tuesday, Oct. 2018 and did not expect to resume normal operations. (The university’s football team, which plays in a stadium that seats close to 80,000 people, does have another home game on October 20th.)\n",
      "\n",
      "“Please evacuate to Leon County,” the sheriff’s office said on 10/10/2018. It will be very bad, he said — similar in some ways to Christmas Day, when most places close and lots of people could not get out of town. \n",
      "\n",
      "\n"
     ]
    }
   ],
   "source": [
    "#looks for (the) 1st of october OR (the) first of october\n",
    "dates1 = re.findall(r'(?:the\\s)?(?:(?:\\d{1,2}(?:st|nd|rd|th))|first|second|third|fourth|fifth|sixth|seventh|eighth|ninth|tenth)(?:\\s)of(?:\\s)(?:January|February|March|April|May|June|July|August|September|October|November|December)', data);\n",
    "#remove found cases from the text and append new dates to the date list\n",
    "for date in dates1:\n",
    "    data = re.sub(date, \"\", data);\n",
    "    dates.append(date);\n",
    "print(dates1);\n",
    "print(data);"
   ]
  },
  {
   "cell_type": "code",
   "execution_count": 5,
   "metadata": {},
   "outputs": [
    {
     "name": "stdout",
     "output_type": "stream",
     "text": [
      "[]\n",
      "Hurricane Michael May Hit Florida as Category 3 Storm\n",
      "\n",
      "(an adaptation of the New York Times article with the same title)\n",
      "\n",
      "ATLANTA — Hurricane Michael strengthened and sharpened its track toward the Florida Panhandle on Monday, imperiling a vast stretch of the state that must cope with the threat of a suddenly menacing storm.\n",
      "\n",
      "The risks posed by the hurricane extended hundreds of miles inland, and it was poised to bombard parts of the South and Mid-Atlantic as a tropical storm, endangering regions still recovering from Hurricane Florence’s deluge last month.\n",
      "\n",
      "The National Hurricane Center said Michael could make landfall again on Wednesday, Oct. 11th as a Category 3 hurricane, with sustained winds of at least 111 miles per hour. If the forecast holds, Michael would be the strongest hurricane to make landfall in the mainland United States so far.\n",
      "\n",
      "“Michael can still change direction and impact any part of the state,” said Mr. Scott, who warned that some areas could receive up to a foot of rain, and that destructive winds were likely to hit both along the coast, in places like Panama City, and inland, including Tallahassee, the capital. Local officials ordered evacuations from some communities ahead of the storm, which is expected to bring tropical storm-force winds to the state beginning as soon as Tuesday.\n",
      "\n",
      "Unlike Hurricane Florence, which slowly approached the Carolinas from the Atlantic Ocean and then meandered for days, Hurricane Michael offered little time for preparation. When Mr. Scott spoke, on Monday 8a.m., the system was a tropical storm, though one forecast to strengthen. A bit later, the hurricane center upgraded it to a Category 1 hurricane and anticipated a Category 3 strike on Wednesday.\n",
      "\n",
      "On Monday afternoon, the hurricane center said the storm was about 520 miles south of Apalachicola, Fla., with maximum sustained winds of 80 miles per hour, just above the threshold to be classified as a hurricane. The storm was moving north at nine miles per hour, leading to watches and warnings in Cuba, Mexico and the United States.\n",
      "\n",
      "Florida State University said it would close Tuesday, Oct. 2018 and did not expect to resume normal operations. (The university’s football team, which plays in a stadium that seats close to 80,000 people, does have another home game on October 20th.)\n",
      "\n",
      "“Please evacuate to Leon County,” the sheriff’s office said on 10/10/2018. It will be very bad, he said — similar in some ways to Christmas Day, when most places close and lots of people could not get out of town. \n",
      "\n",
      "\n"
     ]
    }
   ],
   "source": [
    "#looks for Friday the 20th or Friday the third\n",
    "dates2 = re.findall(r'(?:Sunday|Monday|Tuesday|Wednesday|Thursday|Friday|Saturday)(?:\\s)the(?:\\s)(?:(?:\\d{1,2}(?:st|nd|rd|th))|first|second|third|fourth|fifth|sixth|seventh|eighth|ninth|tenth)',data);\n",
    "#remove found cases from the text and append new dates to the date list\n",
    "for date in dates2:\n",
    "    data = re.sub(date, \"\", data);\n",
    "    dates.append(date);\n",
    "print(dates2);\n",
    "print(data);"
   ]
  },
  {
   "cell_type": "code",
   "execution_count": 6,
   "metadata": {},
   "outputs": [
    {
     "name": "stdout",
     "output_type": "stream",
     "text": [
      "[' May ', 'Wednesday, Oct. 11th', 'Tuesday, Oct. 2018', ' October 20th']\n",
      "Hurricane MichaelHit Florida as Category 3 Storm\n",
      "\n",
      "(an adaptation of the New York Times article with the same title)\n",
      "\n",
      "ATLANTA — Hurricane Michael strengthened and sharpened its track toward the Florida Panhandle on Monday, imperiling a vast stretch of the state that must cope with the threat of a suddenly menacing storm.\n",
      "\n",
      "The risks posed by the hurricane extended hundreds of miles inland, and it was poised to bombard parts of the South and Mid-Atlantic as a tropical storm, endangering regions still recovering from Hurricane Florence’s deluge last month.\n",
      "\n",
      "The National Hurricane Center said Michael could make landfall again on  as a Category 3 hurricane, with sustained winds of at least 111 miles per hour. If the forecast holds, Michael would be the strongest hurricane to make landfall in the mainland United States so far.\n",
      "\n",
      "“Michael can still change direction and impact any part of the state,” said Mr. Scott, who warned that some areas could receive up to a foot of rain, and that destructive winds were likely to hit both along the coast, in places like Panama City, and inland, including Tallahassee, the capital. Local officials ordered evacuations from some communities ahead of the storm, which is expected to bring tropical storm-force winds to the state beginning as soon as Tuesday.\n",
      "\n",
      "Unlike Hurricane Florence, which slowly approached the Carolinas from the Atlantic Ocean and then meandered for days, Hurricane Michael offered little time for preparation. When Mr. Scott spoke, on Monday 8a.m., the system was a tropical storm, though one forecast to strengthen. A bit later, the hurricane center upgraded it to a Category 1 hurricane and anticipated a Category 3 strike on Wednesday.\n",
      "\n",
      "On Monday afternoon, the hurricane center said the storm was about 520 miles south of Apalachicola, Fla., with maximum sustained winds of 80 miles per hour, just above the threshold to be classified as a hurricane. The storm was moving north at nine miles per hour, leading to watches and warnings in Cuba, Mexico and the United States.\n",
      "\n",
      "Florida State University said it would close  and did not expect to resume normal operations. (The university’s football team, which plays in a stadium that seats close to 80,000 people, does have another home game on.)\n",
      "\n",
      "“Please evacuate to Leon County,” the sheriff’s office said on 10/10/2018. It will be very bad, he said — similar in some ways to Christmas Day, when most places close and lots of people could not get out of town. \n",
      "\n",
      "\n"
     ]
    }
   ],
   "source": [
    "# looks for (Friday,) October (13th,) (2017)\n",
    "dates3 = re.findall(r'((?:(?:Sunday|Monday|Tuesday|Wednesday|Thursday|Friday|Saturday),)?(?:\\s)?(?:Jan.|Feb.|Mar.|Apr.|Jun.|Jul.|Aug.|Sept.|Oct.|Nov.|Dec.|January|February|March|April|May|June|July|August|September|October|November|December)(?:\\s)(?:(?:(?:\\d{1,2}(?:st|nd|rd|th))|first|second|third|fourth|fifth|sixth|seventh|eighth|ninth|tenth)(?:,)?)?(?:(?:\\d{4})?))',data);\n",
    "#remove found cases from the text and append new dates to the date list\n",
    "for date in dates3:\n",
    "    data = re.sub(date, \"\", data);\n",
    "    dates.append(date);\n",
    "print(dates3);\n",
    "print(data);"
   ]
  },
  {
   "cell_type": "code",
   "execution_count": 7,
   "metadata": {
    "scrolled": true
   },
   "outputs": [
    {
     "name": "stdout",
     "output_type": "stream",
     "text": [
      "['Monday afternoon']\n",
      "Hurricane MichaelHit Florida as Category 3 Storm\n",
      "\n",
      "(an adaptation of the New York Times article with the same title)\n",
      "\n",
      "ATLANTA — Hurricane Michael strengthened and sharpened its track toward the Florida Panhandle on Monday, imperiling a vast stretch of the state that must cope with the threat of a suddenly menacing storm.\n",
      "\n",
      "The risks posed by the hurricane extended hundreds of miles inland, and it was poised to bombard parts of the South and Mid-Atlantic as a tropical storm, endangering regions still recovering from Hurricane Florence’s deluge last month.\n",
      "\n",
      "The National Hurricane Center said Michael could make landfall again on  as a Category 3 hurricane, with sustained winds of at least 111 miles per hour. If the forecast holds, Michael would be the strongest hurricane to make landfall in the mainland United States so far.\n",
      "\n",
      "“Michael can still change direction and impact any part of the state,” said Mr. Scott, who warned that some areas could receive up to a foot of rain, and that destructive winds were likely to hit both along the coast, in places like Panama City, and inland, including Tallahassee, the capital. Local officials ordered evacuations from some communities ahead of the storm, which is expected to bring tropical storm-force winds to the state beginning as soon as Tuesday.\n",
      "\n",
      "Unlike Hurricane Florence, which slowly approached the Carolinas from the Atlantic Ocean and then meandered for days, Hurricane Michael offered little time for preparation. When Mr. Scott spoke, on Monday 8a.m., the system was a tropical storm, though one forecast to strengthen. A bit later, the hurricane center upgraded it to a Category 1 hurricane and anticipated a Category 3 strike on Wednesday.\n",
      "\n",
      "On , the hurricane center said the storm was about 520 miles south of Apalachicola, Fla., with maximum sustained winds of 80 miles per hour, just above the threshold to be classified as a hurricane. The storm was moving north at nine miles per hour, leading to watches and warnings in Cuba, Mexico and the United States.\n",
      "\n",
      "Florida State University said it would close  and did not expect to resume normal operations. (The university’s football team, which plays in a stadium that seats close to 80,000 people, does have another home game on.)\n",
      "\n",
      "“Please evacuate to Leon County,” the sheriff’s office said on 10/10/2018. It will be very bad, he said — similar in some ways to Christmas Day, when most places close and lots of people could not get out of town. \n",
      "\n",
      "\n"
     ]
    }
   ],
   "source": [
    "#handles Monday afternoon format\n",
    "dates4 = re.findall(r'(?:Sunday|Monday|Tuesday|Wednesday|Thursday|Friday|Saturday)(?:\\s)(?:morning|afternoon|evening|night)',data);\n",
    "for date in dates4:\n",
    "    data = re.sub(date, \"\", data);\n",
    "    dates.append(date);\n",
    "#remove found cases from the text and append new dates to the date list\n",
    "print(dates4);\n",
    "print(data);"
   ]
  },
  {
   "cell_type": "code",
   "execution_count": 8,
   "metadata": {
    "scrolled": true
   },
   "outputs": [
    {
     "name": "stdout",
     "output_type": "stream",
     "text": [
      "['10/10/2018']\n",
      "Hurricane MichaelHit Florida as Category 3 Storm\n",
      "\n",
      "(an adaptation of the New York Times article with the same title)\n",
      "\n",
      "ATLANTA — Hurricane Michael strengthened and sharpened its track toward the Florida Panhandle on Monday, imperiling a vast stretch of the state that must cope with the threat of a suddenly menacing storm.\n",
      "\n",
      "The risks posed by the hurricane extended hundreds of miles inland, and it was poised to bombard parts of the South and Mid-Atlantic as a tropical storm, endangering regions still recovering from Hurricane Florence’s deluge last month.\n",
      "\n",
      "The National Hurricane Center said Michael could make landfall again on  as a Category 3 hurricane, with sustained winds of at least 111 miles per hour. If the forecast holds, Michael would be the strongest hurricane to make landfall in the mainland United States so far.\n",
      "\n",
      "“Michael can still change direction and impact any part of the state,” said Mr. Scott, who warned that some areas could receive up to a foot of rain, and that destructive winds were likely to hit both along the coast, in places like Panama City, and inland, including Tallahassee, the capital. Local officials ordered evacuations from some communities ahead of the storm, which is expected to bring tropical storm-force winds to the state beginning as soon as Tuesday.\n",
      "\n",
      "Unlike Hurricane Florence, which slowly approached the Carolinas from the Atlantic Ocean and then meandered for days, Hurricane Michael offered little time for preparation. When Mr. Scott spoke, on Monday 8a.m., the system was a tropical storm, though one forecast to strengthen. A bit later, the hurricane center upgraded it to a Category 1 hurricane and anticipated a Category 3 strike on Wednesday.\n",
      "\n",
      "On , the hurricane center said the storm was about 520 miles south of Apalachicola, Fla., with maximum sustained winds of 80 miles per hour, just above the threshold to be classified as a hurricane. The storm was moving north at nine miles per hour, leading to watches and warnings in Cuba, Mexico and the United States.\n",
      "\n",
      "Florida State University said it would close  and did not expect to resume normal operations. (The university’s football team, which plays in a stadium that seats close to 80,000 people, does have another home game on.)\n",
      "\n",
      "“Please evacuate to Leon County,” the sheriff’s office said on . It will be very bad, he said — similar in some ways to Christmas Day, when most places close and lots of people could not get out of town. \n",
      "\n",
      "\n"
     ]
    }
   ],
   "source": [
    "#handles 10/10/2018 and 10/10/18 and 10/18 and 10/2018 and 2018 formats\n",
    "dates5 = re.findall(r'((?:(?:\\d{1,2})/)?(?:\\d{1,2})/(?:(?:\\d{4})|(?:\\d{2})))|(?:\\d{4})',data);\n",
    "#remove found cases from the text and append new dates to the date list\n",
    "for date in dates5:\n",
    "    data = re.sub(date, \"\", data);\n",
    "    dates.append(date);\n",
    "print(dates5);\n",
    "print(data);"
   ]
  },
  {
   "cell_type": "code",
   "execution_count": 9,
   "metadata": {},
   "outputs": [
    {
     "name": "stdout",
     "output_type": "stream",
     "text": [
      "['Monday 8a.m.']\n",
      "Hurricane MichaelHit Florida as Category 3 Storm\n",
      "\n",
      "(an adaptation of the New York Times article with the same title)\n",
      "\n",
      "ATLANTA — Hurricane Michael strengthened and sharpened its track toward the Florida Panhandle on Monday, imperiling a vast stretch of the state that must cope with the threat of a suddenly menacing storm.\n",
      "\n",
      "The risks posed by the hurricane extended hundreds of miles inland, and it was poised to bombard parts of the South and Mid-Atlantic as a tropical storm, endangering regions still recovering from Hurricane Florence’s deluge last month.\n",
      "\n",
      "The National Hurricane Center said Michael could make landfall again on  as a Category 3 hurricane, with sustained winds of at least 111 miles per hour. If the forecast holds, Michael would be the strongest hurricane to make landfall in the mainland United States so far.\n",
      "\n",
      "“Michael can still change direction and impact any part of the state,” said Mr. Scott, who warned that some areas could receive up to a foot of rain, and that destructive winds were likely to hit both along the coast, in places like Panama City, and inland, including Tallahassee, the capital. Local officials ordered evacuations from some communities ahead of the storm, which is expected to bring tropical storm-force winds to the state beginning as soon as Tuesday.\n",
      "\n",
      "Unlike Hurricane Florence, which slowly approached the Carolinas from the Atlantic Ocean and then meandered for days, Hurricane Michael offered little time for preparation. When Mr. Scott spoke, on , the system was a tropical storm, though one forecast to strengthen. A bit later, the hurricane center upgraded it to a Category 1 hurricane and anticipated a Category 3 strike on Wednesday.\n",
      "\n",
      "On , the hurricane center said the storm was about 520 miles south of Apalachicola, Fla., with maximum sustained winds of 80 miles per hour, just above the threshold to be classified as a hurricane. The storm was moving north at nine miles per hour, leading to watches and warnings in Cuba, Mexico and the United States.\n",
      "\n",
      "Florida State University said it would close  and did not expect to resume normal operations. (The university’s football team, which plays in a stadium that seats close to 80,000 people, does have another home game on.)\n",
      "\n",
      "“Please evacuate to Leon County,” the sheriff’s office said on . It will be very bad, he said — similar in some ways to Christmas Day, when most places close and lots of people could not get out of town. \n",
      "\n",
      "\n"
     ]
    }
   ],
   "source": [
    "#handles Monday 8a.m. format\n",
    "dates5 = re.findall(r'((?:Sunday|Monday|Tuesday|Wednesday|Thursday|Friday|Saturday)(?:,)?(?:\\s)(?:(?:(?:\\d{1,2}):(?:\\d{2}))|(?:\\d{1,2}))(?:a.m.|p.m.|pm|am))',data);\n",
    "#remove found cases from the text and append new dates to the date list\n",
    "for date in dates5:\n",
    "    data = re.sub(date, \"\", data);\n",
    "    dates.append(date);\n",
    "print(dates5);\n",
    "print(data);"
   ]
  },
  {
   "cell_type": "code",
   "execution_count": 10,
   "metadata": {},
   "outputs": [
    {
     "name": "stdout",
     "output_type": "stream",
     "text": [
      "['Monday', 'Tuesday', 'Wednesday']\n",
      "Hurricane MichaelHit Florida as Category 3 Storm\n",
      "\n",
      "(an adaptation of the New York Times article with the same title)\n",
      "\n",
      "ATLANTA — Hurricane Michael strengthened and sharpened its track toward the Florida Panhandle on , imperiling a vast stretch of the state that must cope with the threat of a suddenly menacing storm.\n",
      "\n",
      "The risks posed by the hurricane extended hundreds of miles inland, and it was poised to bombard parts of the South and Mid-Atlantic as a tropical storm, endangering regions still recovering from Hurricane Florence’s deluge last month.\n",
      "\n",
      "The National Hurricane Center said Michael could make landfall again on  as a Category 3 hurricane, with sustained winds of at least 111 miles per hour. If the forecast holds, Michael would be the strongest hurricane to make landfall in the mainland United States so far.\n",
      "\n",
      "“Michael can still change direction and impact any part of the state,” said Mr. Scott, who warned that some areas could receive up to a foot of rain, and that destructive winds were likely to hit both along the coast, in places like Panama City, and inland, including Tallahassee, the capital. Local officials ordered evacuations from some communities ahead of the storm, which is expected to bring tropical storm-force winds to the state beginning as soon as .\n",
      "\n",
      "Unlike Hurricane Florence, which slowly approached the Carolinas from the Atlantic Ocean and then meandered for days, Hurricane Michael offered little time for preparation. When Mr. Scott spoke, on , the system was a tropical storm, though one forecast to strengthen. A bit later, the hurricane center upgraded it to a Category 1 hurricane and anticipated a Category 3 strike on .\n",
      "\n",
      "On , the hurricane center said the storm was about 520 miles south of Apalachicola, Fla., with maximum sustained winds of 80 miles per hour, just above the threshold to be classified as a hurricane. The storm was moving north at nine miles per hour, leading to watches and warnings in Cuba, Mexico and the United States.\n",
      "\n",
      "Florida State University said it would close  and did not expect to resume normal operations. (The university’s football team, which plays in a stadium that seats close to 80,000 people, does have another home game on.)\n",
      "\n",
      "“Please evacuate to Leon County,” the sheriff’s office said on . It will be very bad, he said — similar in some ways to Christmas Day, when most places close and lots of people could not get out of town. \n",
      "\n",
      "\n"
     ]
    }
   ],
   "source": [
    "#find any standalone days of the week\n",
    "dates6 = re.findall(r'(?:Sunday|Monday|Tuesday|Wednesday|Thursday|Friday|Saturday)',data);\n",
    "#remove found cases from the text and append new dates to the date list\n",
    "for date in dates6:\n",
    "    data = re.sub(date, \"\", data);\n",
    "    dates.append(date);\n",
    "print(dates6);\n",
    "print(data);"
   ]
  },
  {
   "cell_type": "code",
   "execution_count": 11,
   "metadata": {},
   "outputs": [
    {
     "name": "stdout",
     "output_type": "stream",
     "text": [
      "['Christmas Day']\n",
      "Hurricane MichaelHit Florida as Category 3 Storm\n",
      "\n",
      "(an adaptation of the New York Times article with the same title)\n",
      "\n",
      "ATLANTA — Hurricane Michael strengthened and sharpened its track toward the Florida Panhandle on , imperiling a vast stretch of the state that must cope with the threat of a suddenly menacing storm.\n",
      "\n",
      "The risks posed by the hurricane extended hundreds of miles inland, and it was poised to bombard parts of the South and Mid-Atlantic as a tropical storm, endangering regions still recovering from Hurricane Florence’s deluge last month.\n",
      "\n",
      "The National Hurricane Center said Michael could make landfall again on  as a Category 3 hurricane, with sustained winds of at least 111 miles per hour. If the forecast holds, Michael would be the strongest hurricane to make landfall in the mainland United States so far.\n",
      "\n",
      "“Michael can still change direction and impact any part of the state,” said Mr. Scott, who warned that some areas could receive up to a foot of rain, and that destructive winds were likely to hit both along the coast, in places like Panama City, and inland, including Tallahassee, the capital. Local officials ordered evacuations from some communities ahead of the storm, which is expected to bring tropical storm-force winds to the state beginning as soon as .\n",
      "\n",
      "Unlike Hurricane Florence, which slowly approached the Carolinas from the Atlantic Ocean and then meandered for days, Hurricane Michael offered little time for preparation. When Mr. Scott spoke, on , the system was a tropical storm, though one forecast to strengthen. A bit later, the hurricane center upgraded it to a Category 1 hurricane and anticipated a Category 3 strike on .\n",
      "\n",
      "On , the hurricane center said the storm was about 520 miles south of Apalachicola, Fla., with maximum sustained winds of 80 miles per hour, just above the threshold to be classified as a hurricane. The storm was moving north at nine miles per hour, leading to watches and warnings in Cuba, Mexico and the United States.\n",
      "\n",
      "Florida State University said it would close  and did not expect to resume normal operations. (The university’s football team, which plays in a stadium that seats close to 80,000 people, does have another home game on.)\n",
      "\n",
      "“Please evacuate to Leon County,” the sheriff’s office said on . It will be very bad, he said — similar in some ways to , when most places close and lots of people could not get out of town. \n",
      "\n",
      "\n"
     ]
    }
   ],
   "source": [
    "dates7 = re.findall(r'(?:New Year\\'s Day|Martin Luther King, Jr. Day|George Washington\\'s Birthday|Memorial Day|Independence Day|Labor Day|Colombus Day|Veterans Day|Thanksgiving Day|Christmas Day|Christmas|New Year\\'s|Thanksgiving)',data);\n",
    "#remove found cases from the text and append new dates to the date list\n",
    "for date in dates7:\n",
    "    data = re.sub(date, \"\", data);\n",
    "    dates.append(date);\n",
    "print(dates7);\n",
    "print(data);"
   ]
  },
  {
   "cell_type": "code",
   "execution_count": 12,
   "metadata": {},
   "outputs": [
    {
     "name": "stdout",
     "output_type": "stream",
     "text": [
      "[' May ', 'Wednesday, Oct. 11th', 'Tuesday, Oct. 2018', ' October 20th', 'Monday afternoon', '10/10/2018', 'Monday 8a.m.', 'Monday', 'Tuesday', 'Wednesday', 'Christmas Day']\n"
     ]
    }
   ],
   "source": [
    "for date in dates:\n",
    "    fOut.write(date+'\\n');\n",
    "fOut.close();\n",
    "print(dates);"
   ]
  },
  {
   "cell_type": "code",
   "execution_count": null,
   "metadata": {},
   "outputs": [],
   "source": []
  },
  {
   "cell_type": "code",
   "execution_count": null,
   "metadata": {},
   "outputs": [],
   "source": []
  },
  {
   "cell_type": "code",
   "execution_count": null,
   "metadata": {},
   "outputs": [],
   "source": []
  }
 ],
 "metadata": {
  "kernelspec": {
   "display_name": "Python 3",
   "language": "python",
   "name": "python3"
  },
  "language_info": {
   "codemirror_mode": {
    "name": "ipython",
    "version": 3
   },
   "file_extension": ".py",
   "mimetype": "text/x-python",
   "name": "python",
   "nbconvert_exporter": "python",
   "pygments_lexer": "ipython3",
   "version": "3.7.3"
  }
 },
 "nbformat": 4,
 "nbformat_minor": 4
}
