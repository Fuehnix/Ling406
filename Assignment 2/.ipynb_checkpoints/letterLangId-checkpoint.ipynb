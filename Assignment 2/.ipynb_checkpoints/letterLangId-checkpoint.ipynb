{
 "cells": [
  {
   "cell_type": "code",
   "execution_count": 72,
   "metadata": {},
   "outputs": [],
   "source": [
    "import re\n",
    "import math\n",
    "import string\n",
    "#Jacob Fuehne"
   ]
  },
  {
   "cell_type": "code",
   "execution_count": 73,
   "metadata": {},
   "outputs": [],
   "source": [
    "def identifyLang():\n",
    "    eWords = getWordsFile(\"LangId.train.English\")\n",
    "    eng = getBigram(eWords)\n",
    "    \n",
    "    fWords = getWordsFile(\"LangId.train.French\")\n",
    "    fre = getBigram(fWords)\n",
    "    \n",
    "    iWords = getWordsFile(\"LangId.train.Italian\")\n",
    "    ita = getBigram(iWords)\n",
    "    \n",
    "    testFile = open(\"LangId.test\", \"r\")\n",
    "    lines = testFile.readlines()\n",
    "    #go through file\n",
    "    outF = open('letterLangId.out', 'w')\n",
    "    count = 1\n",
    "    for line in lines:\n",
    "        outString = identifyLangLine(line,eng,fre,ita)\n",
    "        outF.write(str(count) + outString)\n",
    "        count += 1\n",
    "    outF.close()"
   ]
  },
  {
   "cell_type": "code",
   "execution_count": 74,
   "metadata": {},
   "outputs": [],
   "source": [
    "def identifyLangLine(line, eng, fre, ita):\n",
    "    testWords = getWordsLine(line)\n",
    "    eBigram, ePrev, eLetterPairs = eng\n",
    "    fBigram, fPrev, fLetterPairs = fre\n",
    "    iBigram, iPrev, iLetterPairs = ita\n",
    "    eProb = test(eBigram,testWords, ePrev, eLetterPairs)\n",
    "    fProb = test(fBigram,testWords, fPrev, fLetterPairs)\n",
    "    iProb = test(iBigram,testWords, iPrev, iLetterPairs)\n",
    "    maxProb = max(eProb, fProb, iProb)\n",
    "    if(maxProb == eProb):\n",
    "        return \" English\\n\"\n",
    "    elif maxProb == fProb:\n",
    "        return \" French\\n\"\n",
    "    else:\n",
    "        return \" Italian\\n\""
   ]
  },
  {
   "cell_type": "code",
   "execution_count": 75,
   "metadata": {},
   "outputs": [],
   "source": [
    "def getWordsFile(filename):\n",
    "    #read from file\n",
    "    inputFile = open(filename, \"r\")\n",
    "    lines = inputFile.readlines()\n",
    "    inputFile.close()\n",
    "    words = list()\n",
    "    for line in lines:\n",
    "        for word in getWordsLine(line):\n",
    "            words.append(word)\n",
    "    return words"
   ]
  },
  {
   "cell_type": "code",
   "execution_count": 76,
   "metadata": {},
   "outputs": [],
   "source": [
    "def getWordsLine(line):\n",
    "    sentences = list()\n",
    "    stopChars = string.punctuation\n",
    "    #remove punctuation\n",
    "    for char in stopChars:\n",
    "        line = line.replace(char,\"\")\n",
    "    #make all characters lowercase\n",
    "    sentences.append((line.lower()).strip())\n",
    "    words = list()\n",
    "    for sentence in sentences:\n",
    "        for word in sentence.split():\n",
    "            words.append(word)\n",
    "    return words"
   ]
  },
  {
   "cell_type": "code",
   "execution_count": 77,
   "metadata": {},
   "outputs": [],
   "source": [
    "def getBigram(words):\n",
    "    letterPairs = {}\n",
    "    previousLetters = {}\n",
    "    result = {}\n",
    "    \n",
    "    for word in words:\n",
    "        #bigram (2 letters)\n",
    "        for i in range(len(word)-1):\n",
    "            lpair = word[i] + word[i+1]\n",
    "            #create entry\n",
    "            if lpair not in letterPairs:\n",
    "                letterPairs[lpair] = 1\n",
    "            #add count\n",
    "            else:\n",
    "                letterPairs[lpair] += 1\n",
    "        #unigram (1 letter)\n",
    "        for i in range(len(word)):\n",
    "            #create entry\n",
    "            if word[i] not in previousLetters:\n",
    "                previousLetters[word[i]] = 1\n",
    "            #add count\n",
    "            else:\n",
    "                previousLetters[word[i]] += 1\n",
    "    #combine for real probability, using the probability of the key / prob of the prev\n",
    "    #store in an array called result\n",
    "    for i in letterPairs:\n",
    "        pair = (i,i[0])\n",
    "#         print(\"bigram pair: \" + pair)\n",
    "#         print(\"bigram i: \" + i)\n",
    "        probBi = letterPairs[i]\n",
    "        probPrev = previousLetters[i[0]]\n",
    "        result[pair] = probBi/probPrev\n",
    "        \n",
    "    return result, previousLetters, letterPairs"
   ]
  },
  {
   "cell_type": "code",
   "execution_count": 93,
   "metadata": {},
   "outputs": [],
   "source": [
    "def smoothing(result, prevLettersTest, letterTest, previousLetters, letterPairs):\n",
    "    for i in letterTest:\n",
    "#         print(pair)\n",
    "#         print(result) \n",
    "        #get string pair\n",
    "        pair = (i,i[0])\n",
    "        prevL = i[0]\n",
    "        currL = i\n",
    "        if prevL not in previousLetters:\n",
    "            previousLetters[prevL] = 0\n",
    "        if currL not in letterPairs:\n",
    "            letterPairs[currL] = 0\n",
    "        if pair not in result:\n",
    "            result[pair] = 0\n",
    "    for i in result:\n",
    "        pair = (i,i[0])\n",
    "        #apply smoothing\n",
    "        result[i] = (letterPairs[i[0]] + 1)/(previousLetters[i[1]] + len(previousLetters))\n",
    "#         print(\"pair \" + str(pair))\n",
    "#         print(\"i \" + str(i))\n",
    "#         print(\"i[0] \" + i[0])\n",
    "#         print(\"i[1] \" + i[1])\n",
    "#         print(\"result[i] \" + str(result[i]))\n",
    "#         try:\n",
    "#             result[i] = (letterPairs[i[0]] + 1)/(previousLetters[i[1]] + len(previousLetters))\n",
    "#         except KeyError:\n",
    "#             print(\"fail \" + str(result[i]))\n",
    "#             print(\"letterPairs \" + letterPairs)\n",
    "#             print(\"letterPair i \" + letterPairs[i])\n",
    "#             print(\"previousLetters[i[1]] \" + previousLetters[i[1]])\n",
    "#             print((letterPairs[i[0]] + 1)/(previousLetters[i[1]] + len(previousLetters)))\n",
    "    return result"
   ]
  },
  {
   "cell_type": "code",
   "execution_count": 94,
   "metadata": {},
   "outputs": [],
   "source": [
    "#gives log predictions\n",
    "def test(trainResult, testWords, previousLetters, letterPairs):\n",
    "    logProb = 0\n",
    "    prevLettersTest = {} #dictionary\n",
    "    letterTest = {} #dictionary\n",
    "    for word in testWords:\n",
    "        for i in range(len(word)-1):\n",
    "            lpair = word[i] + word[i+1]\n",
    "            if lpair not in letterTest:\n",
    "                letterTest[lpair] = 0\n",
    "        for i in range(len(word)):\n",
    "            if word[i] not in prevLettersTest:\n",
    "                prevLettersTest[word[i]] = 0\n",
    "    #print(trainResult)\n",
    "    result = smoothing(trainResult, prevLettersTest, letterTest, previousLetters, letterPairs)\n",
    "    for i in letterTest:\n",
    "        pair = (i, i[0])\n",
    "        prob = result[pair]\n",
    "        logProb += math.log(prob,2)\n",
    "\n",
    "    return logProb"
   ]
  },
  {
   "cell_type": "code",
   "execution_count": null,
   "metadata": {},
   "outputs": [],
   "source": []
  },
  {
   "cell_type": "code",
   "execution_count": 95,
   "metadata": {},
   "outputs": [],
   "source": [
    "#gives accuracy by comparing output with solution\n",
    "def getAccuracy():\n",
    "    #open output\n",
    "    outF = open(\"letterLangId.out\", \"r\")\n",
    "    output = outF.readlines()\n",
    "#     print(output)\n",
    "    outF.close()\n",
    "    \n",
    "    #open solution\n",
    "    solF = open(\"LangId.sol\", \"r\")\n",
    "    solution = solF.readlines()\n",
    "    solF.close()\n",
    "    \n",
    "    count = 0\n",
    "    length = len(solution)\n",
    "    for i in range(length):\n",
    "#         print(solution[i])\n",
    "#         print(output[i])\n",
    "        if solution[i] != output[i]:\n",
    "            count += 1\n",
    "#     print(count)\n",
    "    accuracy = ((length-count)/length)\n",
    "    print(\"accuracy is \" +  str(accuracy))"
   ]
  },
  {
   "cell_type": "code",
   "execution_count": 96,
   "metadata": {
    "scrolled": true
   },
   "outputs": [
    {
     "name": "stdout",
     "output_type": "stream",
     "text": [
      "accuracy is 0.98\n"
     ]
    }
   ],
   "source": [
    "def main():\n",
    "    identifyLang()\n",
    "    getAccuracy()\n",
    "if __name__ == '__main__':\n",
    "    main()"
   ]
  },
  {
   "cell_type": "code",
   "execution_count": null,
   "metadata": {},
   "outputs": [],
   "source": []
  },
  {
   "cell_type": "code",
   "execution_count": null,
   "metadata": {},
   "outputs": [],
   "source": []
  },
  {
   "cell_type": "code",
   "execution_count": null,
   "metadata": {},
   "outputs": [],
   "source": []
  },
  {
   "cell_type": "code",
   "execution_count": null,
   "metadata": {},
   "outputs": [],
   "source": []
  },
  {
   "cell_type": "code",
   "execution_count": null,
   "metadata": {},
   "outputs": [],
   "source": []
  }
 ],
 "metadata": {
  "kernelspec": {
   "display_name": "Python 3",
   "language": "python",
   "name": "python3"
  },
  "language_info": {
   "codemirror_mode": {
    "name": "ipython",
    "version": 3
   },
   "file_extension": ".py",
   "mimetype": "text/x-python",
   "name": "python",
   "nbconvert_exporter": "python",
   "pygments_lexer": "ipython3",
   "version": "3.7.5"
  }
 },
 "nbformat": 4,
 "nbformat_minor": 2
}
