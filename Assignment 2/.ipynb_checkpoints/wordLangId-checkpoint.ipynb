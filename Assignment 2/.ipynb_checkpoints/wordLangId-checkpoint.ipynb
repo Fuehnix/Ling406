{
 "cells": [
  {
   "cell_type": "code",
   "execution_count": 118,
   "metadata": {},
   "outputs": [],
   "source": [
    "import re\n",
    "import math\n",
    "import string\n",
    "#Jacob Fuehne"
   ]
  },
  {
   "cell_type": "code",
   "execution_count": 119,
   "metadata": {},
   "outputs": [],
   "source": [
    "def identifyLang():\n",
    "    eWords = getWordsFile(\"LangId.train.English\")\n",
    "    eBigram, ePrev, eWordPairs = getBigram(eWords)\n",
    "    \n",
    "    fWords = getWordsFile(\"LangId.train.French\")\n",
    "    fBigram, fPrev, fWordPairs = getBigram(fWords)\n",
    "    \n",
    "    iWords = getWordsFile(\"LangId.train.Italian\")\n",
    "    iBigram, iPrev, iWordPairs = getBigram(iWords)\n",
    "    \n",
    "    testFile = open(\"LangId.test\", \"r\")\n",
    "    lines = testFile.readlines()\n",
    "    #go through file\n",
    "    outF = open('wordLangId.out', 'w')\n",
    "    count = 1\n",
    "    for line in lines:\n",
    "        testWords = getWordsLine(line)\n",
    "        eProb = test(eBigram,testWords, ePrev, eWordPairs)\n",
    "        fProb = test(fBigram,testWords, fPrev, fWordPairs)\n",
    "        iProb = test(iBigram,testWords, iPrev, iWordPairs)\n",
    "        maxProb = max(eProb, fProb, iProb)\n",
    "        if maxProb == eProb:\n",
    "            outF.write(str(count) + \" English\\n\")\n",
    "        elif maxProb == fProb:\n",
    "            outF.write(str(count) + \" French\\n\")\n",
    "        else:\n",
    "            outF.write(str(count) + \" Italian\\n\")\n",
    "        count += 1\n",
    "    outF.close()"
   ]
  },
  {
   "cell_type": "code",
   "execution_count": 120,
   "metadata": {},
   "outputs": [],
   "source": [
    "def getWordsFile(filename):\n",
    "    #read from file\n",
    "    inputFile = open(filename, \"r\")\n",
    "    lines = inputFile.readlines()\n",
    "    inputFile.close()\n",
    "    words = list()\n",
    "    for line in lines:\n",
    "        for word in getWordsLine(line):\n",
    "            words.append(word)\n",
    "    return words"
   ]
  },
  {
   "cell_type": "code",
   "execution_count": 121,
   "metadata": {},
   "outputs": [],
   "source": [
    "def getWordsLine(line):\n",
    "    sentences = list()\n",
    "    stopChars = string.punctuation\n",
    "    #remove punctuation\n",
    "    for char in stopChars:\n",
    "        line = line.replace(char,\"\")\n",
    "    #make all characters lowercase\n",
    "    sentences.append((line.lower()).strip())\n",
    "    words = list()\n",
    "    for sentence in sentences:\n",
    "        for word in sentence.split():\n",
    "            words.append(word)\n",
    "    return words"
   ]
  },
  {
   "cell_type": "code",
   "execution_count": 122,
   "metadata": {},
   "outputs": [],
   "source": [
    "def getBigram(words):\n",
    "    wordPairs = {}\n",
    "    previousWords = {}\n",
    "    result = {}\n",
    "    \n",
    "    #bigram (2 words)\n",
    "    for i in range(len(words)-1):\n",
    "        wpair = (words[i],words[i+1])\n",
    "        #create entry\n",
    "        if wpair not in wordPairs:\n",
    "            wordPairs[wpair] = 1\n",
    "        #add count\n",
    "        else:\n",
    "            wordPairs[wpair] += 1\n",
    "    #unigram (1 word)\n",
    "    for i in range(len(words)):\n",
    "        #create entry\n",
    "        if words[i] not in previousWords:\n",
    "            previousWords[words[i]] = 1\n",
    "        #add count\n",
    "        else:\n",
    "            previousWords[words[i]] += 1\n",
    "    #combine for real probability, using the probability of the key / prob of the prev\n",
    "    #store in an array called result\n",
    "    for i in wordPairs:\n",
    "        pair = (i,i[0])\n",
    "#         print(\"bigram pair: \" + pair)\n",
    "#         print(\"bigram i: \" + i)\n",
    "        probBi = wordPairs[i]\n",
    "        probPrev = previousWords[i[0]]\n",
    "        result[pair] = probBi/probPrev\n",
    "\n",
    "\n",
    "    return result, previousWords, wordPairs"
   ]
  },
  {
   "cell_type": "code",
   "execution_count": 123,
   "metadata": {},
   "outputs": [],
   "source": [
    "def smoothing(result, prevWordsTest, wordTest, previousWords, wordPairs):\n",
    "    for i in wordTest:\n",
    "#         print(pair)\n",
    "#         print(result) \n",
    "        #get string pair\n",
    "        pair = (i,i[0])\n",
    "        prevW = i[0]\n",
    "        currW = i\n",
    "        if prevW not in previousWords:\n",
    "            previousWords[prevW] = 0\n",
    "        if currW not in wordPairs:\n",
    "            wordPairs[currW] = 0\n",
    "        if pair not in result:\n",
    "            result[pair] = 0\n",
    "    for i in result:\n",
    "        pair = (i,i[0])\n",
    "        #apply smoothing\n",
    "        result[i] = (wordPairs[i[0]] + 1)/(previousWords[i[1]] + len(previousWords))\n",
    "#         print(\"pair \" + str(pair))\n",
    "#         print(\"i \" + str(i))\n",
    "#         print(\"i[0] \" + i[0])\n",
    "#         print(\"i[1] \" + i[1])\n",
    "#         print(\"result[i] \" + str(result[i]))\n",
    "#         try:\n",
    "#             result[i] = (wordPairs[i[0]] + 1)/(previousWords[i[1]] + len(previousWords))\n",
    "#         except KeyError:\n",
    "#             print(\"fail \" + str(result[i]))\n",
    "#             print(\"wordPairs \" + wordPairs)\n",
    "#             print(\"wordPair i \" + wordPairs[i])\n",
    "#             print(\"previousWords[i[1]] \" + previousWords[i[1]])\n",
    "#             print((wordPairs[i[0]] + 1)/(previousWords[i[1]] + len(previousWords)))\n",
    "    return result"
   ]
  },
  {
   "cell_type": "code",
   "execution_count": 124,
   "metadata": {},
   "outputs": [],
   "source": [
    "#gives log predictions\n",
    "def test(trainResult, testWords, previousWords, wordPairs):\n",
    "    logProb = 0\n",
    "    prevWordsTest = {} #dictionary\n",
    "    wordTest = {} #dictionary\n",
    "    \n",
    "    #create previous word and wordTest by directly setting them to the testWords\n",
    "    prevWordsTest = [i for i in testWords]\n",
    "    wordTest = [(testWords[i], testWords[i+1]) for i in range(len(testWords)-1)]\n",
    "\n",
    "    #print(trainResult)\n",
    "    result = smoothing(trainResult, prevWordsTest, wordTest, previousWords, wordPairs)\n",
    "    for i in wordTest:\n",
    "        pair = (i, i[0])\n",
    "        prob = result[pair]\n",
    "        logProb += math.log(prob,2)\n",
    "    return logProb"
   ]
  },
  {
   "cell_type": "code",
   "execution_count": null,
   "metadata": {},
   "outputs": [],
   "source": []
  },
  {
   "cell_type": "code",
   "execution_count": 125,
   "metadata": {},
   "outputs": [],
   "source": [
    "#gives accuracy by comparing output with solution\n",
    "def getAccuracy():\n",
    "    #open output\n",
    "    outF = open(\"wordLangId.out\", \"r\")\n",
    "    output = outF.readlines()\n",
    "#     print(output)\n",
    "    outF.close()\n",
    "    \n",
    "    #open solution\n",
    "    solF = open(\"LangId.sol\", \"r\")\n",
    "    solution = solF.readlines()\n",
    "    solF.close()\n",
    "    \n",
    "    count = 0\n",
    "    length = len(solution)\n",
    "    for i in range(length):\n",
    "#         print(solution[i])\n",
    "#         print(output[i])\n",
    "        if solution[i] != output[i]:\n",
    "            count += 1\n",
    "#     print(count)\n",
    "    accuracy = ((length-count)/length)\n",
    "    print(\"accuracy is \" +  str(accuracy))"
   ]
  },
  {
   "cell_type": "code",
   "execution_count": null,
   "metadata": {},
   "outputs": [],
   "source": [
    "def main():\n",
    "    identifyLang()\n",
    "    getAccuracy()\n",
    "if __name__ == '__main__':\n",
    "    main()"
   ]
  },
  {
   "cell_type": "code",
   "execution_count": null,
   "metadata": {},
   "outputs": [],
   "source": []
  },
  {
   "cell_type": "code",
   "execution_count": null,
   "metadata": {},
   "outputs": [],
   "source": []
  },
  {
   "cell_type": "code",
   "execution_count": null,
   "metadata": {},
   "outputs": [],
   "source": []
  },
  {
   "cell_type": "code",
   "execution_count": null,
   "metadata": {},
   "outputs": [],
   "source": []
  },
  {
   "cell_type": "code",
   "execution_count": null,
   "metadata": {},
   "outputs": [],
   "source": []
  },
  {
   "cell_type": "code",
   "execution_count": null,
   "metadata": {},
   "outputs": [],
   "source": []
  }
 ],
 "metadata": {
  "kernelspec": {
   "display_name": "Python 3",
   "language": "python",
   "name": "python3"
  },
  "language_info": {
   "codemirror_mode": {
    "name": "ipython",
    "version": 3
   },
   "file_extension": ".py",
   "mimetype": "text/x-python",
   "name": "python",
   "nbconvert_exporter": "python",
   "pygments_lexer": "ipython3",
   "version": "3.7.5"
  }
 },
 "nbformat": 4,
 "nbformat_minor": 2
}
