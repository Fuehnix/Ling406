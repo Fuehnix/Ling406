{
 "cells": [
  {
   "cell_type": "code",
   "execution_count": 21,
   "metadata": {},
   "outputs": [],
   "source": [
    "import re\n",
    "import math\n",
    "import string\n",
    "#Jacob Fuehne"
   ]
  },
  {
   "cell_type": "code",
   "execution_count": 22,
   "metadata": {},
   "outputs": [],
   "source": [
    "def identifyLang():\n",
    "    eWords = getWordsFile(\"LangId.train.English\")\n",
    "    eng = getBigram(eWords)\n",
    "    \n",
    "    fWords = getWordsFile(\"LangId.train.French\")\n",
    "    fre = getBigram(fWords)\n",
    "    \n",
    "    iWords = getWordsFile(\"LangId.train.Italian\")\n",
    "    ita = getBigram(iWords)\n",
    "    \n",
    "    testFile = open(\"LangId.test\", \"r\")\n",
    "    lines = testFile.readlines()\n",
    "    #go through file\n",
    "    outF = open('wordLangId2.out', 'w')\n",
    "    count = 1\n",
    "    for line in lines:\n",
    "        outString = identifyLangLine(line,eng,fre,ita)\n",
    "        outF.write(str(count) + outString)\n",
    "        count += 1\n",
    "    outF.close()\n",
    "    testFile.close()"
   ]
  },
  {
   "cell_type": "code",
   "execution_count": 23,
   "metadata": {},
   "outputs": [],
   "source": [
    "def identifyLangLine(line, eng, fre, ita):\n",
    "    testWords = getWordsLine(line)\n",
    "    eBigram, ePrev, eWordPairs = eng\n",
    "    fBigram, fPrev, fWordPairs = fre\n",
    "    iBigram, iPrev, iWordPairs = ita\n",
    "    eProb = test(eBigram,testWords, ePrev, eWordPairs)\n",
    "    fProb = test(fBigram,testWords, fPrev, fWordPairs)\n",
    "    iProb = test(iBigram,testWords, iPrev, iWordPairs)\n",
    "    maxProb = max(eProb, fProb, iProb)\n",
    "    if(maxProb == eProb):\n",
    "        return \" English\\n\"\n",
    "    elif maxProb == fProb:\n",
    "        return \" French\\n\"\n",
    "    else:\n",
    "        return \" Italian\\n\""
   ]
  },
  {
   "cell_type": "code",
   "execution_count": 24,
   "metadata": {},
   "outputs": [],
   "source": [
    "def getWordsLine(line):\n",
    "    sentences = []\n",
    "    stopChars = string.punctuation\n",
    "    #remove punctuation\n",
    "    for char in stopChars:\n",
    "        line = line.replace(char,\"\")\n",
    "    #make all characters lowercase\n",
    "    sentences.append((line.lower()).strip())\n",
    "    words = []\n",
    "    for sentence in sentences:\n",
    "        for word in sentence.split():\n",
    "            words.append(word)\n",
    "    return words"
   ]
  },
  {
   "cell_type": "code",
   "execution_count": 25,
   "metadata": {},
   "outputs": [],
   "source": [
    "def getWordsLine(line):\n",
    "    sentences = list()\n",
    "    stopChars = string.punctuation\n",
    "    #remove punctuation\n",
    "    for char in stopChars:\n",
    "        line = line.replace(char,\"\")\n",
    "    #make all characters lowercase\n",
    "    sentences.append((line.lower()).strip())\n",
    "    words = list()\n",
    "    for sentence in sentences:\n",
    "        for word in sentence.split():\n",
    "            words.append(word)\n",
    "    return words"
   ]
  },
  {
   "cell_type": "code",
   "execution_count": 26,
   "metadata": {},
   "outputs": [],
   "source": [
    "def getBigram(words):\n",
    "    wordPairs = {}\n",
    "    previousWords = {}\n",
    "    result = {}\n",
    "    \n",
    "    #bigram (2 words)\n",
    "    for i in range(len(words)-1):\n",
    "        wpair = (words[i],words[i+1])\n",
    "        #create entry\n",
    "        if wpair not in wordPairs:\n",
    "            wordPairs[wpair] = 1\n",
    "        #add count\n",
    "        else:\n",
    "            wordPairs[wpair] += 1\n",
    "    #unigram (1 word)\n",
    "    for i in range(len(words)):\n",
    "        #create entry\n",
    "        if words[i] not in previousWords:\n",
    "            previousWords[words[i]] = 1\n",
    "        #add count\n",
    "        else:\n",
    "            previousWords[words[i]] += 1\n",
    "    #combine for real probability, using the probability of the key / prob of the prev\n",
    "    #store in an array called result\n",
    "    for i in wordPairs:\n",
    "        pair = (i,i[0])\n",
    "#         print(\"bigram pair: \" + pair)\n",
    "#         print(\"bigram i: \" + i)\n",
    "        probBi = wordPairs[i]\n",
    "        probPrev = previousWords[i[0]]\n",
    "        result[pair] = probBi/probPrev\n",
    "\n",
    "\n",
    "    return result, previousWords, wordPairs"
   ]
  },
  {
   "cell_type": "code",
   "execution_count": 27,
   "metadata": {},
   "outputs": [],
   "source": [
    "#to do: turn into good turing smoothing\n",
    "def smoothing(result, prevWordsTest, wordTest, previousWords, wordPairs):\n",
    "    for i in wordTest:\n",
    "#         print(pair)\n",
    "#         print(result) \n",
    "        #get string pair\n",
    "        pair = (i,i[0])\n",
    "        prevW = i[0]\n",
    "        currW = i\n",
    "        if prevW not in previousWords:\n",
    "            previousWords[prevW] = 0\n",
    "        if currW not in wordPairs:\n",
    "            wordPairs[currW] = 0\n",
    "        if pair not in result:\n",
    "            result[pair] = 0\n",
    "    for i in result:\n",
    "        pair = (i,i[0])\n",
    "        #apply smoothing\n",
    "        bigramCount = wordPairs[i[0]]\n",
    "        \n",
    "        result[i] = (wordPairs[i[0]] + 1)/(previousWords[i[1]] + len(previousWords))\n",
    "#         print(\"pair \" + str(pair))\n",
    "#         print(\"i \" + str(i))\n",
    "#         print(\"i[0] \" + i[0])\n",
    "#         print(\"i[1] \" + i[1])\n",
    "#         print(\"result[i] \" + str(result[i]))\n",
    "#         try:\n",
    "#             result[i] = (wordPairs[i[0]] + 1)/(previousWords[i[1]] + len(previousWords))\n",
    "#         except KeyError:\n",
    "#             print(\"fail \" + str(result[i]))\n",
    "#             print(\"wordPairs \" + wordPairs)\n",
    "#             print(\"wordPair i \" + wordPairs[i])\n",
    "#             print(\"previousWords[i[1]] \" + previousWords[i[1]])\n",
    "#             print((wordPairs[i[0]] + 1)/(previousWords[i[1]] + len(previousWords)))\n",
    "    return result"
   ]
  },
  {
   "cell_type": "code",
   "execution_count": 28,
   "metadata": {},
   "outputs": [],
   "source": [
    "#gives log predictions\n",
    "def test(trainResult, testWords, previousWords, wordPairs):\n",
    "    logProb = 0\n",
    "    prevWordsTest = []\n",
    "    wordTest = []\n",
    "    for word in testWords:\n",
    "        for i in range(len(testWords)-1):\n",
    "            wordTest.append((testWords[i], testWords[i+1]))\n",
    "        for i in testWords:\n",
    "            prevWordsTest.append(i)\n",
    "    #print(trainResult)\n",
    "    result = smoothing(trainResult, prevWordsTest, wordTest, previousWords, wordPairs)\n",
    "    for i in wordTest:\n",
    "        pair = (i, i[0])\n",
    "        prob = result[pair]\n",
    "        logProb += math.log(prob,2)\n",
    "    return logProb"
   ]
  },
  {
   "cell_type": "code",
   "execution_count": null,
   "metadata": {},
   "outputs": [],
   "source": []
  },
  {
   "cell_type": "code",
   "execution_count": 29,
   "metadata": {},
   "outputs": [],
   "source": [
    "#gives accuracy by comparing output with solution\n",
    "def getAccuracy():\n",
    "    #open output\n",
    "    outF = open(\"wordLangId2.out\", \"r\")\n",
    "    output = outF.readlines()\n",
    "#     print(output)\n",
    "    outF.close()\n",
    "    \n",
    "    #open solution\n",
    "    solF = open(\"LangId.sol\", \"r\")\n",
    "    solution = solF.readlines()\n",
    "    solF.close()\n",
    "    \n",
    "    count = 0\n",
    "    length = len(solution)\n",
    "    for i in range(length):\n",
    "#         print(solution[i])\n",
    "#         print(output[i])\n",
    "        if solution[i] != output[i]:\n",
    "            count += 1\n",
    "#     print(count)\n",
    "    accuracy = ((length-count)/length)\n",
    "    print(\"accuracy is \" +  str(accuracy))"
   ]
  },
  {
   "cell_type": "code",
   "execution_count": 30,
   "metadata": {},
   "outputs": [
    {
     "name": "stdout",
     "output_type": "stream",
     "text": [
      "accuracy is 0.99\n"
     ]
    }
   ],
   "source": [
    "def main():\n",
    "    identifyLang()\n",
    "    getAccuracy()\n",
    "if __name__ == '__main__':\n",
    "    main()"
   ]
  },
  {
   "cell_type": "code",
   "execution_count": null,
   "metadata": {},
   "outputs": [],
   "source": []
  },
  {
   "cell_type": "code",
   "execution_count": null,
   "metadata": {},
   "outputs": [],
   "source": []
  },
  {
   "cell_type": "code",
   "execution_count": null,
   "metadata": {},
   "outputs": [],
   "source": []
  },
  {
   "cell_type": "code",
   "execution_count": null,
   "metadata": {},
   "outputs": [],
   "source": []
  },
  {
   "cell_type": "code",
   "execution_count": null,
   "metadata": {},
   "outputs": [],
   "source": []
  },
  {
   "cell_type": "code",
   "execution_count": null,
   "metadata": {},
   "outputs": [],
   "source": []
  }
 ],
 "metadata": {
  "kernelspec": {
   "display_name": "Python 3",
   "language": "python",
   "name": "python3"
  },
  "language_info": {
   "codemirror_mode": {
    "name": "ipython",
    "version": 3
   },
   "file_extension": ".py",
   "mimetype": "text/x-python",
   "name": "python",
   "nbconvert_exporter": "python",
   "pygments_lexer": "ipython3",
   "version": "3.7.5"
  }
 },
 "nbformat": 4,
 "nbformat_minor": 2
}
